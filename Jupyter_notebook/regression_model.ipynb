{
 "cells": [
  {
   "cell_type": "code",
   "execution_count": null,
   "id": "64a66d26",
   "metadata": {},
   "outputs": [],
   "source": [
    "import pandas as pd\n",
    "import numpy as np\n",
    "import joblib\n",
    "\n",
    "from sklearn.ensemble import RandomForestRegressor\n",
    "from sklearn.compose import ColumnTransformer\n",
    "from sklearn.pipeline import Pipeline\n",
    "from sklearn.preprocessing import StandardScaler, OneHotEncoder\n",
    "from sklearn.model_selection import train_test_split\n",
    "from sklearn.metrics import mean_squared_error, mean_absolute_error, r2_score"
   ]
  },
  {
   "cell_type": "code",
   "execution_count": null,
   "id": "054199d8",
   "metadata": {},
   "outputs": [],
   "source": [
    "def load_data(path):\n",
    "    \"\"\"\n",
    "    Load cleaned survey CSV\n",
    "    \"\"\"\n",
    "    return pd.read_csv(path)"
   ]
  },
  {
   "cell_type": "code",
   "execution_count": null,
   "id": "0cdfc145",
   "metadata": {},
   "outputs": [],
   "source": [
    "def build_rf_pipeline(num_cols, cat_cols, params):\n",
    "    \"\"\"\n",
    "    Build Random Forest pipeline with preprocessing\n",
    "    \"\"\"\n",
    "    num_pipe = StandardScaler()\n",
    "    cat_pipe = OneHotEncoder(handle_unknown='ignore')\n",
    "\n",
    "    preprocessor = ColumnTransformer([\n",
    "        ('num', num_pipe, num_cols),\n",
    "        ('cat', cat_pipe, cat_cols)\n",
    "    ])\n",
    "\n",
    "    rf = RandomForestRegressor(\n",
    "        n_estimators=params['n_estimators'],\n",
    "        max_depth=params['max_depth'],\n",
    "        min_samples_split=params['min_samples_split'],\n",
    "        random_state=42\n",
    "    )\n",
    "\n",
    "    pipeline = Pipeline([\n",
    "        ('preprocessor', preprocessor),\n",
    "        ('regressor', rf)\n",
    "    ])\n",
    "\n",
    "    return pipeline"
   ]
  },
  {
   "cell_type": "code",
   "execution_count": null,
   "id": "764f9aab",
   "metadata": {},
   "outputs": [],
   "source": [
    "def train_evaluate_rf(df, params):\n",
    "    \"\"\"\n",
    "    Train RF on Age, evaluate and save model\n",
    "    \"\"\"\n",
    "    X = df.drop(columns=['Age'])\n",
    "    y = df['Age']\n",
    "\n",
    "    num_cols = []  \n",
    "    cat_cols = [col for col in X.columns if col not in num_cols]\n",
    "\n",
    "    X_train, X_test, y_train, y_test = train_test_split(\n",
    "        X, y, test_size=0.2, random_state=42\n",
    "    )\n",
    "\n",
    "    pipe = build_rf_pipeline(num_cols, cat_cols, params)\n",
    "    pipe.fit(X_train, y_train)\n",
    "\n",
    "    y_pred = pipe.predict(X_test)\n",
    "\n",
    "    rmse = np.sqrt(mean_squared_error(y_test, y_pred))\n",
    "    mae = mean_absolute_error(y_test, y_pred)\n",
    "    r2 = r2_score(y_test, y_pred)\n",
    "\n",
    "    print(\"\\nFinal Random Forest Regression\")\n",
    "    print(f\"RMSE: {rmse:.2f}\")\n",
    "    print(f\"MAE: {mae:.2f}\")\n",
    "    print(f\"R²: {r2:.4f}\")\n",
    "\n",
    "    joblib.dump(pipe, 'Test/final_rf_regressor.pkl')\n",
    "    print(\"\\n Final RF Regressor saved as 'final_rf_regressor.pkl'\")\n",
    "\n",
    "    joblib.dump(pipe, 'Test/final_rf_pipeline.pkl')\n",
    "    print(\"\\n Final RF pipeline saved as 'final_rf_pipeline.pkl'\")\n",
    "\n",
    "    return pipe"
   ]
  },
  {
   "cell_type": "code",
   "execution_count": null,
   "id": "a610a0b1",
   "metadata": {},
   "outputs": [],
   "source": [
    "df = load_data(r\"../OL-7NUZJP/cleaned_survey.csv\")\n",
    "\n",
    "\n",
    "best_rf_params = {\n",
    "        'n_estimators': 100,\n",
    "        'max_depth': None,\n",
    "        'min_samples_split': 2\n",
    "    }\n",
    "\n",
    "\n",
    "final_model = train_evaluate_rf(df, best_rf_params)"
   ]
  }
 ],
 "metadata": {
  "language_info": {
   "name": "python"
  }
 },
 "nbformat": 4,
 "nbformat_minor": 5
}
